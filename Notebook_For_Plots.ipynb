{
 "cells": [
  {
   "cell_type": "markdown",
   "metadata": {},
   "source": [
    "# Jupyter Notebook for producing Figures 7 and 8 in arXiv:1902.01789"
   ]
  },
  {
   "cell_type": "code",
   "execution_count": 5,
   "metadata": {},
   "outputs": [],
   "source": [
    "import numpy as np\n",
    "import math\n",
    "import matplotlib.pyplot as plt\n",
    "from matplotlib import rc, rcParams\n",
    "\n",
    "%matplotlib inline"
   ]
  },
  {
   "cell_type": "markdown",
   "metadata": {},
   "source": [
    "- Below are functions that read in both the direct detection responses (for Xenon1T 2018) from files named \"DD\\_response\" and the parameter values named majorana\\_* . \n",
    "\n",
    "- The first function gets rid of any faulty points in the data and combines the parameters and responses. \n",
    "- The second function does the same, but only keeps points that aren't excluded by Xenon 1T 2018. "
   ]
  },
  {
   "cell_type": "code",
   "execution_count": 2,
   "metadata": {},
   "outputs": [],
   "source": [
    "\n",
    "def allowed_points_majorana(path):\n",
    "    DD_data=np.genfromtxt(path +'/DD_response.dat', delimiter=' ', \n",
    "              skip_header=2)\n",
    "    more_info = path.split('/')[1].split('=')\n",
    "    \n",
    "    if path.split('/')[2].split('=')[1][0] == 'g':\n",
    "            mult = '1'\n",
    "    else:\n",
    "        mult ='4'\n",
    "        \n",
    "    params_list = np.genfromtxt(path +'/majorana_'+more_info[0]+more_info[1]+'_DD_x'+mult+'.dat', \n",
    "              delimiter='\\t',\n",
    "              skip_header=2)\n",
    "            \n",
    "    nan_list = []\n",
    "    for i in range(len(params_list[:,0])):\n",
    "        for j in range(len(params_list[i,:])):\n",
    "            if math.isnan(params_list[i,j]):\n",
    "                nan_list.append(i)\n",
    "                break\n",
    "    \n",
    "    cut_list =np.zeros([len(DD_data[:,0])-len(nan_list), len(DD_data[0,:])])\n",
    "    param_cut =np.zeros([len(params_list[:,0])-len(nan_list), len(params_list[0,:])])\n",
    "   \n",
    "    j = 0\n",
    "    for i in range(len(DD_data[:,0])) :\n",
    "\n",
    "        if np.any(i in nan_list):\n",
    "            entry = i+3\n",
    "            #print \"Entry %i has nans\" % entry\n",
    "        else:\n",
    "            for k in range(len(cut_list[0,:])):\n",
    "                cut_list[j,k] = DD_data[i,k]\n",
    "            for l in range(len(param_cut[0,:])):\n",
    "                param_cut[j,l] = params_list[i,l]\n",
    "            j+=1 \n",
    "    return cut_list, param_cut\n",
    "\n",
    "def exp_allowed_points_majorana(path):\n",
    "    DD_data=np.genfromtxt(path +'/DD_response.dat', delimiter=' ', \n",
    "              skip_header=2)\n",
    "    more_info = path.split('/')[1].split('=')\n",
    "    \n",
    "    if path.split('/')[2].split('=')[1][0] == 'g':\n",
    "            mult = '1'\n",
    "    else:\n",
    "        mult ='4'\n",
    "        \n",
    "    params_list = np.genfromtxt(path +'/majorana_'+more_info[0]+more_info[1]+'_DD_x'+mult+'.dat', \n",
    "              delimiter='\\t',\n",
    "              skip_header=2)\n",
    "    list_allowed = [] \n",
    "    for i in range(len(DD_data[:,0])):\n",
    "        #print DD_data[i,:]\n",
    "        if DD_data[i,1] < 3.6823:\n",
    "            list_allowed.append(i)\n",
    "    \n",
    "    #print list_allowed\n",
    "    nan_list = []\n",
    "    for i in range(len(params_list[:,0])):\n",
    "        for j in range(len(params_list[i,:])):\n",
    "            if math.isnan(params_list[i,j]):\n",
    "                nan_list.append(i)\n",
    "                break\n",
    "                \n",
    "    cut_list =np.zeros([len(list_allowed)-len(nan_list), len(DD_data[0,:])])\n",
    "    param_cut =np.zeros([len(list_allowed)-len(nan_list), len(params_list[0,:])])\n",
    "    j = 0\n",
    "    for i in range(len(DD_data[:,0])) :\n",
    "\n",
    "        if np.any(i not in list_allowed or i in nan_list):\n",
    "            entry = i+3\n",
    "            #print \"Entry %i has nans\" % entry\n",
    "        else:\n",
    "            for k in range(len(cut_list[0,:])):\n",
    "                cut_list[j,k] = DD_data[i,k]\n",
    "            for l in range(len(param_cut[0,:])):\n",
    "                param_cut[j,l] = params_list[i,l]\n",
    "            j+=1 \n",
    "    return cut_list, param_cut \n"
   ]
  },
  {
   "cell_type": "markdown",
   "metadata": {},
   "source": [
    "- Now we load in the points"
   ]
  },
  {
   "cell_type": "code",
   "execution_count": 4,
   "metadata": {},
   "outputs": [],
   "source": [
    "gmu2_gb4gs=allowed_points_majorana('Model_parameters/gmu=2/gb=4gs/data_files')\n",
    "gmu4_gb4gs=allowed_points_majorana('Model_parameters/gmu=4/gb=4gs/data_files')\n",
    "gmu2_gbgs=allowed_points_majorana('Model_parameters/gmu=2/gb=gs/data_files')\n",
    "gmu4_gbgs=allowed_points_majorana('Model_parameters/gmu=4/gb=gs/data_files')"
   ]
  },
  {
   "cell_type": "markdown",
   "metadata": {},
   "source": [
    "- Collate in arrays"
   ]
  },
  {
   "cell_type": "code",
   "execution_count": 5,
   "metadata": {},
   "outputs": [],
   "source": [
    "majors = [gmu2_gbgs,gmu4_gbgs, gmu2_gb4gs,gmu4_gb4gs]\n",
    "majors_titles=['$g_{\\mu}=2,\\, g_b=g_s$','$g_{\\mu} = \\sqrt{4\\pi},\\, g_b=g_s$','$g_{\\mu}=2,\\, g_b=4g_s$', \n",
    "               '$g_{\\mu}=\\sqrt{4\\pi},\\, g_b=4g_s$']\n",
    "        "
   ]
  },
  {
   "cell_type": "markdown",
   "metadata": {},
   "source": [
    "- Below are LHC constraints from Figure 6"
   ]
  },
  {
   "cell_type": "code",
   "execution_count": 10,
   "metadata": {},
   "outputs": [],
   "source": [
    "med_lims=[1000,1100,1000,1100]\n",
    "DM_lims=[31,31,13,13]"
   ]
  },
  {
   "cell_type": "markdown",
   "metadata": {},
   "source": [
    "## Figure 7, Anapole"
   ]
  },
  {
   "cell_type": "code",
   "execution_count": 8,
   "metadata": {},
   "outputs": [
    {
     "name": "stderr",
     "output_type": "stream",
     "text": [
      "/usr/local/lib/python2.7/dist-packages/matplotlib/font_manager.py:1328: UserWarning: findfont: Font family [u'sans-serif'] not found. Falling back to DejaVu Sans\n",
      "  (prop.get_family(), self.defaultFamily[fontext]))\n"
     ]
    },
    {
     "data": {
      "text/plain": [
       "(3.0, 1000.0)"
      ]
     },
     "execution_count": 8,
     "metadata": {},
     "output_type": "execute_result"
    },
    {
     "data": {
      "image/png": "[encoded data removed]",
      "text/plain": [
       "<Figure size 256x192 with 1 Axes>"
      ]
     },
     "metadata": {},
     "output_type": "display_data"
    }
   ],
   "source": [
    "from matplotlib.pyplot import figure\n",
    "figure(num=None, figsize=(3.2, 2.4), dpi=80, facecolor='w', edgecolor='k')\n",
    "floor = np.genfromtxt('Neutrino_floors/floor_anapole.dat', delimiter=' ')\n",
    "\n",
    "ana_X1T = np.genfromtxt('Direct_Detection_Exclusions/Xe1T_Anapole_line.dat', delimiter=' ')\n",
    "plt.loglog(ana_X1T[:,0], ana_X1T[:,1], label='Xenon 1T', color='black')\n",
    "\n",
    "darkside = np.genfromtxt('Direct_Detection_Exclusions/darkside20k_anapoleline.dat', delimiter=' ')\n",
    "plt.loglog(darkside[:,0], darkside[:,1], label='Darkside 20k', color='black', linestyle=':')\n",
    "\n",
    "ana_LZ = np.genfromtxt('Direct_Detection_Exclusions/LZ_anapole.dat', delimiter=' ')\n",
    "plt.loglog(ana_LZ[:,0], ana_LZ[:,1], label='LZ', color='black', linestyle='dashed')\n",
    "\n",
    "plt.text(200,1.5e-5,'Xenon1T', size =8 , rotation=10.)\n",
    "plt.text(300, 3e-6,'LZ', size =8 , rotation=10.)\n",
    "plt.text(150, 1.2e-6,'Darkside-20k', size =8 , rotation=10.)\n",
    "\n",
    "\n",
    "plt.fill_between(floor[:,0], floor[:,1],np.zeros(np.size(floor[:,0])), color='Gray', alpha=0.2)\n",
    "\n",
    "for k in [3,2,1,0]:\n",
    "    plt.scatter(majors[k][1][:,0],majors[k][1][:,9], s=1.0)\n",
    "        \n",
    "        \n",
    "plt.xlabel(r'$m_{\\chi}\\,$ [GeV]', size=12)\n",
    "plt.ylabel(r'$ A\\,\\,$ [GeV]$^{-2}$', size=12)\n",
    "\n",
    "\n",
    "plt.tight_layout()\n",
    "plt.ylim(ymin=4e-8)\n",
    "plt.xlim(xmin=3.0, xmax=1e3)\n",
    "\n",
    "#plt.savefig('anapole_plot_noLHC.png', format='png', dpi=400)"
   ]
  },
  {
   "cell_type": "code",
   "execution_count": 14,
   "metadata": {},
   "outputs": [
    {
     "data": {
      "text/plain": [
       "(3.0, 1000.0)"
      ]
     },
     "execution_count": 14,
     "metadata": {},
     "output_type": "execute_result"
    },
    {
     "data": {
      "image/png": "[encoded data removed]",
      "text/plain": [
       "<Figure size 256x192 with 1 Axes>"
      ]
     },
     "metadata": {},
     "output_type": "display_data"
    }
   ],
   "source": [
    "from matplotlib.pyplot import figure\n",
    "figure(num=None, figsize=(3.2, 2.4), dpi=80, facecolor='w', edgecolor='k')\n",
    "\n",
    "floor = np.genfromtxt('Neutrino_floors/floor_anapole.dat', delimiter=' ')\n",
    "\n",
    "ana_X1T = np.genfromtxt('Direct_Detection_Exclusions/Xe1T_Anapole_line.dat', delimiter=' ')\n",
    "plt.loglog(ana_X1T[:,0], ana_X1T[:,1], label='Xenon 1T', color='black')\n",
    "\n",
    "darkside = np.genfromtxt('Direct_Detection_Exclusions/darkside20k_anapoleline.dat', delimiter=' ')\n",
    "plt.loglog(darkside[:,0], darkside[:,1], label='Darkside 20k', color='black', linestyle=':')\n",
    "\n",
    "ana_LZ = np.genfromtxt('Direct_Detection_Exclusions/LZ_anapole.dat', delimiter=' ')\n",
    "plt.loglog(ana_LZ[:,0], ana_LZ[:,1], label='LZ', color='black', linestyle='dashed')\n",
    "\n",
    "\n",
    "plt.text(200,1.5e-5,'Xenon1T', size =8 , rotation=10.)\n",
    "plt.text(300, 3e-6,'LZ', size =8 , rotation=10.)\n",
    "plt.text(150, 1.1e-6,'Darkside-20k', size =8 , rotation=10.)\n",
    "\n",
    "plt.fill_between(floor[:,0], floor[:,1],np.zeros(np.size(floor[:,0])), color='Gray', alpha=0.2)\n",
    "\n",
    "\n",
    "for k in [3,2,1,0]:\n",
    "    target = []\n",
    "    \n",
    "    for l in range(len(majors[k][1][:,9])):\n",
    "\n",
    "        if majors[k][1][l,1] > med_lims[k] and majors[k][1][l,0] > DM_lims[k]:\n",
    "            if len(target)==0:\n",
    "                target = [[majors[k][1][l,0],majors[k][1][l,9]]]\n",
    "            else: \n",
    "                target = np.append(target,[[majors[k][1][l,0],majors[k][1][l,9]]], axis=0)\n",
    "\n",
    "    if len(target) != 0:\n",
    "        plt.scatter(target[:,0],target[:,1], s=1.0)\n",
    "\n",
    "plt.xlabel(r'$m_{\\chi}\\,$ [GeV]', size=12)\n",
    "plt.ylabel(r'$ A\\,\\,$ [GeV]$^{-2}$', size=12)\n",
    "\n",
    "plt.tight_layout()\n",
    "plt.ylim(ymin=4e-8)\n",
    "plt.xlim(xmin=3.0, xmax=1e3)\n",
    "\n",
    "#plt.savefig('anapole_plot_LHC.png', format='png', dpi=400)"
   ]
  },
  {
   "cell_type": "markdown",
   "metadata": {},
   "source": [
    "## Figure 8, c1 response from twist-2 operator"
   ]
  },
  {
   "cell_type": "markdown",
   "metadata": {},
   "source": [
    "- Function to go from parameters to c1 coefficient in the Non-relativistic EFT. See Refs. [89-91]"
   ]
  },
  {
   "cell_type": "code",
   "execution_count": null,
   "metadata": {},
   "outputs": [],
   "source": [
    "mproton = 0.938272046\n",
    "higgs_vev = 246.2\n",
    "pbGeVfactor = 2.67e-9"
   ]
  },
  {
   "cell_type": "code",
   "execution_count": null,
   "metadata": {},
   "outputs": [],
   "source": [
    "def c1_from_params(mchi,m_phiq, gu, gs, gc, gb, gt):\n",
    "    \n",
    "        prefact = mproton*mchi\n",
    "        prefact*=(1./(mchi*mchi - m_phiq*m_phiq))\n",
    "        prefact*=(1./(mchi*mchi - m_phiq*m_phiq))\n",
    "        prefact*=higgs_vev*higgs_vev\n",
    "        quark_bit = (0.0186*gu*gu + 0.03412*gu*gu + 0.0448*gs*gs) \n",
    "        quark_bit += 0.06739*(gt*gt+gc*gc+gb*gb)\n",
    "        \n",
    "        return prefact*quark_bit"
   ]
  },
  {
   "cell_type": "code",
   "execution_count": 18,
   "metadata": {},
   "outputs": [
    {
     "data": {
      "image/png": "[encoded data removed]",
      "text/plain": [
       "<Figure size 256x192 with 1 Axes>"
      ]
     },
     "metadata": {},
     "output_type": "display_data"
    }
   ],
   "source": [
    "from matplotlib.pyplot import figure\n",
    "figure(num=None, figsize=(3.2, 2.4), dpi=80, facecolor='w', edgecolor='k')\n",
    "floor = np.genfromtxt('Neutrino_floors/floor_Op1.dat', delimiter=' ')\n",
    "X1T2 = np.genfromtxt(\"Direct_Detection_Exclusions/X1t_all_coeffs_exclusion.dat\", delimiter=' ')\n",
    "LZ = np.genfromtxt(\"Direct_Detection_Exclusions/LZ_all_coeffs_exclusion.dat\", delimiter=' ')\n",
    "darkside = np.genfromtxt('Direct_Detection_Exclusions/darkside20k_c1.dat', delimiter=' ')\n",
    "k=0\n",
    "\n",
    "majors_color = ['#d62728','#ff7f0e', '#2ca02c','#1f77b4']\n",
    "\n",
    "plt.fill_between(floor[:,0], floor[:,1]\n",
    "        ,np.zeros(np.size(floor[:,0])), color='Gray', alpha=0.3)\n",
    "\n",
    "\n",
    "for k in [3,2,1,0]:\n",
    "    c1s = c1_from_params(majors[k][1][:,0],majors[k][1][:,1],\n",
    "                         majors[k][1][:,4], majors[k][1][:,7],\n",
    "                         majors[k][1][:,5],majors[k][1][:,8],\n",
    "                         majors[k][1][:,6])\n",
    "    \n",
    "    plt.scatter(majors[k][1][:,0],c1s[:], s=1.0)\n",
    "\n",
    "plt.xlim( xmin = 3,xmax=1e3)\n",
    "plt.ylim( ymax = 1e-2,ymin=4e-7)\n",
    "        \n",
    "\n",
    "plt.xlim( xmin = 3,xmax=1e3)\n",
    "plt.ylim( ymax = 9e-3,ymin=1e-9)\n",
    "        \n",
    "plt.xlabel('$m_{\\chi}\\,$ [GeV]', size=12)\n",
    "plt.ylabel('$c_{1}$', size=12) \n",
    "plt.text(200,1.5e-4,'Xenon1T', size =8 , rotation=7.)\n",
    "plt.text(300, 3e-5,'LZ', size =8 , rotation=10.) \n",
    "plt.text(150, 9e-6,'Darkside-20k', size =8 , rotation=7.)\n",
    "plt.loglog(X1T2[:,0], X1T2[:,1], label='Andrew', color='black')\n",
    "plt.loglog(LZ[:,0], LZ[:,1], label='Andrew', color='black', linestyle='dashed')   \n",
    "plt.loglog(darkside[:,0], darkside[:,1], linestyle=':', color='black')   \n",
    "plt.tight_layout()\n",
    "#plt.savefig('c1_noLHC.png', dpi=400)"
   ]
  },
  {
   "cell_type": "code",
   "execution_count": 20,
   "metadata": {},
   "outputs": [
    {
     "data": {
      "image/png": "[encoded data removed]",
      "text/plain": [
       "<Figure size 256x192 with 1 Axes>"
      ]
     },
     "metadata": {},
     "output_type": "display_data"
    }
   ],
   "source": [
    "from matplotlib.pyplot import figure\n",
    "figure(num=None, figsize=(3.2, 2.4), dpi=80, facecolor='w', edgecolor='k')\n",
    "floor = np.genfromtxt('Neutrino_floors/floor_Op1.dat', delimiter=' ')\n",
    "X1T2 = np.genfromtxt(\"Direct_Detection_Exclusions/X1t_all_coeffs_exclusion.dat\", delimiter=' ')\n",
    "LZ = np.genfromtxt(\"Direct_Detection_Exclusions/LZ_all_coeffs_exclusion.dat\", delimiter=' ')\n",
    "darkside = np.genfromtxt('Direct_Detection_Exclusions/darkside20k_c1.dat', delimiter=' ')\n",
    "\n",
    "k=0\n",
    "\n",
    "majors_color = ['#d62728','#ff7f0e', '#2ca02c','#1f77b4']\n",
    "\n",
    "plt.fill_between(floor[:,0], floor[:,1]\n",
    "                 ,np.zeros(np.size(floor[:,0])), color='Gray', alpha=0.3)\n",
    "\n",
    "for k in [3,2,1,0]:\n",
    "    target = []\n",
    "    c1s = c1_from_params(majors[k][1][:,0],majors[k][1][:,1],\n",
    "                         majors[k][1][:,4], majors[k][1][:,7],\n",
    "                         majors[k][1][:,5],majors[k][1][:,8],\n",
    "                         majors[k][1][:,6])\n",
    "    for l in range(len(c1s[:])):\n",
    "\n",
    "        if majors[k][1][l,1] > med_lims[k] and majors[k][1][l,0] > DM_lims[k]:\n",
    "            if len(target)==0:\n",
    "                target = [[majors[k][1][l,0],c1s[l]]]\n",
    "            else: \n",
    "                target = np.append(target,[[majors[k][1][l,0],c1s[l]]], axis=0)\n",
    "\n",
    "    if len(target) != 0:\n",
    "        plt.scatter(target[:,0],target[:,1], s=1.0)\n",
    "\n",
    "plt.xlim( xmin = 3,xmax=1e3)\n",
    "plt.ylim( ymax = 9e-3,ymin=1e-9)\n",
    "        \n",
    "plt.xlabel('$m_{\\chi}\\,$ [GeV]', size=12)\n",
    "plt.ylabel('$c_{1}\\, $', size=12)       \n",
    "plt.text(200,1.5e-4,'Xenon1T', size =8 , rotation=7.)\n",
    "plt.text(300, 3e-5,'LZ', size =8 , rotation=10.) \n",
    "plt.text(150, 9e-6,'Darkside-20k', size =8 , rotation=7.)\n",
    "plt.loglog(X1T2[:,0], X1T2[:,1], label='Andrew', color='black')\n",
    "plt.loglog(LZ[:,0], LZ[:,1], label='Andrew', color='black', linestyle='dashed')   \n",
    "plt.loglog(darkside[:,0], darkside[:,1], linestyle=':', color='black')\n",
    "plt.tight_layout()\n",
    "\n",
    "#plt.savefig('c1_LHC.png', dpi=400)"
   ]
  },
  {
   "cell_type": "code",
   "execution_count": null,
   "metadata": {},
   "outputs": [],
   "source": []
  }
 ],
 "metadata": {
  "kernelspec": {
   "display_name": "Python 2",
   "language": "python",
   "name": "python2"
  },
  "language_info": {
   "codemirror_mode": {
    "name": "ipython",
    "version": 2
   },
   "file_extension": ".py",
   "mimetype": "text/x-python",
   "name": "python",
   "nbconvert_exporter": "python",
   "pygments_lexer": "ipython2",
   "version": "2.7.12"
  }
 },
 "nbformat": 4,
 "nbformat_minor": 2
}
